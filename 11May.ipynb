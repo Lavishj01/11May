{
 "cells": [
  {
   "cell_type": "code",
   "execution_count": 1,
   "id": "e42e42a2-3c65-481f-a9d0-5aa7fb085483",
   "metadata": {},
   "outputs": [
    {
     "name": "stdout",
     "output_type": "stream",
     "text": [
      "1***\n",
      "23**\n",
      "456*\n",
      "78910\n"
     ]
    }
   ],
   "source": [
    "rows = 4\n",
    "count = 1\n",
    "for i in range(1, rows + 1):\n",
    "    for j in range(1, i + 1):\n",
    "        print(count, end=\"\")\n",
    "        count += 1\n",
    "    print(\"*\" * (rows - i))\n"
   ]
  },
  {
   "cell_type": "code",
   "execution_count": 1,
   "id": "6352befb-652d-4494-8ab8-ff80329498b3",
   "metadata": {},
   "outputs": [
    {
     "name": "stdout",
     "output_type": "stream",
     "text": [
      "ABCD\n",
      "ABC1\n",
      "AB12\n",
      "A123\n"
     ]
    }
   ],
   "source": [
    "\n",
    "rows = 4\n",
    "for i in range(rows):\n",
    "    for j in range(rows - i):\n",
    "        print(chr(65 + j), end=\"\")\n",
    "    for k in range(i):\n",
    "        print(k + 1, end=\"\")\n",
    "    print()"
   ]
  },
  {
   "cell_type": "code",
   "execution_count": 3,
   "id": "1b5c7e95-b3bb-4e73-8101-9707dd1d8a9d",
   "metadata": {},
   "outputs": [
    {
     "name": "stdout",
     "output_type": "stream",
     "text": [
      "   A\n",
      "  BCD\n",
      " EFGHI\n",
      "JKLMNOP\n"
     ]
    }
   ],
   "source": [
    "rows = 4\n",
    "start_char = 65  \n",
    "char_count = 1\n",
    "\n",
    "for i in range(rows):\n",
    "    for j in range(rows - i - 1):\n",
    "        print(\" \", end=\"\")\n",
    "    \n",
    "    for k in range(char_count):\n",
    "        print(chr(start_char), end=\"\")\n",
    "        start_char += 1\n",
    "    \n",
    "    char_count += 2\n",
    "    print()\n"
   ]
  },
  {
   "cell_type": "code",
   "execution_count": 4,
   "id": "2f4b5d23-62dd-49c7-93b1-22070d713884",
   "metadata": {},
   "outputs": [
    {
     "name": "stdout",
     "output_type": "stream",
     "text": [
      "*********\n",
      " *******\n",
      "  *****\n",
      "   ***\n",
      "    *\n"
     ]
    }
   ],
   "source": [
    "rows = 5  \n",
    "for i in range(rows, 0, -1):\n",
    "    print(\" \" * (rows - i), end=\"\")\n",
    "    print(\"*\" * (2 * i - 1))\n"
   ]
  },
  {
   "cell_type": "code",
   "execution_count": null,
   "id": "f03f0a23-a494-481a-98ea-623b748bc17f",
   "metadata": {},
   "outputs": [],
   "source": []
  }
 ],
 "metadata": {
  "kernelspec": {
   "display_name": "Python 3 (ipykernel)",
   "language": "python",
   "name": "python3"
  },
  "language_info": {
   "codemirror_mode": {
    "name": "ipython",
    "version": 3
   },
   "file_extension": ".py",
   "mimetype": "text/x-python",
   "name": "python",
   "nbconvert_exporter": "python",
   "pygments_lexer": "ipython3",
   "version": "3.10.4"
  }
 },
 "nbformat": 4,
 "nbformat_minor": 5
}
